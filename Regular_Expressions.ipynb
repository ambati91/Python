{
 "cells": [
  {
   "cell_type": "markdown",
   "metadata": {},
   "source": [
    "# 1. Create a dictionary IP_Count where each key-value pair is IP-Address and its frequency in the entire file."
   ]
  },
  {
   "cell_type": "code",
   "execution_count": 16,
   "metadata": {},
   "outputs": [
    {
     "name": "stdout",
     "output_type": "stream",
     "text": [
      "{'10.128.2.1': 4257, '10.131.2.1': 1626, '10.130.2.1': 4056, '10.129.2.1': 1652, '10.131.0.1': 4198}\n"
     ]
    }
   ],
   "source": [
    "import re\n",
    "ls = []\n",
    "d = {}\n",
    "fhand = open('weblog.txt')\n",
    "for line in fhand:\n",
    "    line = line.rstrip()\n",
    "    pattern = re.findall('\\d.[.]\\d{3}[.]\\d[.]\\d',line)\n",
    "    ls.extend(pattern)\n",
    "for word in ls:\n",
    "    if word not in d:\n",
    "        d[word] = 1\n",
    "    else:\n",
    "        d[word] +=1\n",
    "print(d)\n",
    "    "
   ]
  },
  {
   "cell_type": "markdown",
   "metadata": {},
   "source": [
    "# 2. Create a dictionary Daily_Stats where each key-value pair is Date (string containing only the date, without time) and number of actions carried out on that day.  For example, {“ 29/Nov/2017”: 15, “20/Dec/2017”: 13} indicates there are 15 actions happened on 29th November 2017, 13 actions on 20th December etc."
   ]
  },
  {
   "cell_type": "code",
   "execution_count": 28,
   "metadata": {},
   "outputs": [
    {
     "name": "stdout",
     "output_type": "stream",
     "text": [
      "{'29/Nov/2017': 580, '30/Nov/2017': 2991, '01/Dec/2017': 468, '02/Dec/2017': 168, '03/Dec/2017': 105, '07/Nov/2017': 2, '08/Nov/2017': 106, '09/Nov/2017': 236, '10/Nov/2017': 64, '11/Nov/2017': 286, '12/Nov/2017': 338, '13/Nov/2017': 230, '14/Nov/2017': 150, '15/Nov/2017': 78, '16/Nov/2017': 384, '17/Nov/2017': 481, '18/Nov/2017': 96, '19/Nov/2017': 164, '20/Nov/2017': 58, '21/Nov/2017': 47, '22/Nov/2017': 60, '23/Nov/2017': 380, '24/Nov/2017': 94, '25/Nov/2017': 250, '26/Nov/2017': 179, '12/Dec/2017': 86, '13/Dec/2017': 133, '14/Dec/2017': 165, '15/Dec/2017': 100, '16/Dec/2017': 155, '17/Dec/2017': 92, '18/Dec/2017': 178, '19/Dec/2017': 55, '20/Dec/2017': 98, '21/Dec/2017': 72, '22/Dec/2017': 11, '23/Dec/2017': 43, '16/Jan/2018': 76, '17/Jan/2018': 29, '18/Jan/2018': 63, '29/Jan/2018': 5092, '15/Feb/2018': 20, '16/Feb/2018': 33, '17/Feb/2018': 65, '18/Feb/2018': 34, '19/Feb/2018': 32, '20/Feb/2018': 62, '21/Feb/2018': 110, '22/Feb/2018': 231, '23/Feb/2018': 127, '24/Feb/2018': 15, '25/Feb/2018': 139, '26/Feb/2018': 98, '27/Feb/2018': 83, '28/Feb/2018': 123, '01/Mar/2018': 31, '02/Mar/2018': 143}\n"
     ]
    }
   ],
   "source": [
    "#10.128.2.1\t[29/Nov/2017:06:58:55 GET /login.php HTTP/1.1\t200\n",
    "import re\n",
    "ls = []\n",
    "d = {}\n",
    "fhand = open('weblog.txt')\n",
    "for line in fhand:\n",
    "    line = line.rstrip()\n",
    "    pattern = re.findall('\\d{2}[/][a-zA-Z]{3}[/][0-9]{4}',line)\n",
    "    #print(pattern)\n",
    "    ls.extend(pattern)\n",
    "#print(ls)\n",
    "for word in ls:\n",
    "    if word not in d:\n",
    "        d[word] = 1\n",
    "    else:\n",
    "        d[word] +=1\n",
    "print(d)\n",
    "    "
   ]
  },
  {
   "cell_type": "markdown",
   "metadata": {},
   "source": [
    "# 3. Display the URL which has been accessed (either for submit or upload) for most number of times."
   ]
  },
  {
   "cell_type": "code",
   "execution_count": 137,
   "metadata": {},
   "outputs": [
    {
     "name": "stdout",
     "output_type": "stream",
     "text": [
      "login.php : 3298\n"
     ]
    }
   ],
   "source": [
    "import re\n",
    "from heapq import nlargest\n",
    "ls = []\n",
    "d = {}\n",
    "\n",
    "fhand = open('weblog.txt')\n",
    "for line in fhand:\n",
    "    line = line.rstrip()\n",
    "    pattern = re.findall(' [/]([a-zA-z].*[.][a-zA-Z].*) ',line)\n",
    "    #print(pattern)\n",
    "    ls.extend(pattern)\n",
    "#print(ls)\n",
    "for word in ls:\n",
    "    if word not in d:\n",
    "        d[word] = 1\n",
    "    else:\n",
    "        d[word] +=1\n",
    "\n",
    "Highest = nlargest(1, d, key = d.get) \n",
    "for val in Highest: \n",
    "    print(val, \":\", d.get(val))\n",
    "    "
   ]
  },
  {
   "cell_type": "markdown",
   "metadata": {},
   "source": [
    "# 4. Display the total count of HTTP GET requests and HTTP POST requests."
   ]
  },
  {
   "cell_type": "code",
   "execution_count": 236,
   "metadata": {},
   "outputs": [
    {
     "name": "stdout",
     "output_type": "stream",
     "text": [
      "Total Count : 15780\n"
     ]
    }
   ],
   "source": [
    "#10.128.2.1\t[29/Nov/2017:06:58:55\tGET /login.php HTTP/1.1\t200\n",
    "ls = []\n",
    "ls1 = []\n",
    "d = {}\n",
    "count = 0\n",
    "fhand = open('weblog.txt')\n",
    "for line in fhand:\n",
    "    line = line.rstrip()\n",
    "    pattern = re.findall('GET|POST',line)                  #pattern = re.findall('GET',line)\n",
    "    #print(pattern)\n",
    "    ls.extend(pattern)\n",
    "#print(ls)\n",
    "for word in ls:\n",
    "    count = count +1\n",
    "print('Total Count :', count)\n",
    "\n",
    "    "
   ]
  },
  {
   "cell_type": "markdown",
   "metadata": {},
   "source": [
    "# 5. Create a dictionary Status_Code where key is the status code, and value is a tuple consisting of a string stating meaning of the code and a number indicating the frequency of that code in the file."
   ]
  },
  {
   "cell_type": "code",
   "execution_count": 248,
   "metadata": {},
   "outputs": [
    {
     "name": "stdout",
     "output_type": "stream",
     "text": [
      "{'200': ('success', 11330), '302': ('Requested resource has been temporarily moved', 3498), '304': ('File Not Modified (means, no update is required)', 658), '206': ('Partial content has been processed)', 52), '404': ('File Not Found', 251)}\n"
     ]
    }
   ],
   "source": [
    "#10.128.2.1\t[29/Nov/2017:06:58:55\tGET /login.php HTTP/1.1\t200\n",
    "import re\n",
    "ls = []\n",
    "d = {}\n",
    "fhand = open('weblog.txt')\n",
    "for line in fhand:\n",
    "    line = line.rstrip()\n",
    "    pattern = re.findall('[0-9]{3}$',line)\n",
    "    ls.extend(pattern)\n",
    "for word in ls:\n",
    "    if word== '200':\n",
    "        d[word]=('success',ls.count(word))\n",
    "    elif word == '302':\n",
    "        d[word] = ('Requested resource has been temporarily moved',ls.count(word))\n",
    "    elif word == '404':\n",
    "        d[word] = ('File Not Found',ls.count(word))\n",
    "    elif word == '304':\n",
    "        d[word] = ('File Not Modified (means, no update is required)',ls.count(word))\n",
    "    elif word == '206':\n",
    "        d[word] = ('Partial content has been processed)',ls.count(word))\n",
    "    \n",
    "    \n",
    "print(d)"
   ]
  },
  {
   "cell_type": "markdown",
   "metadata": {},
   "source": [
    "# 6. Create a histogram (list of tuples) indicating number of actions carried out in an hour of a day. For example [(8, 12), (15, 3)] indicates, there are 12 transactions between 8am to 8:59am, there are 3 transactions between 3pm to 3:59pm (because 15 means 3pm)."
   ]
  },
  {
   "cell_type": "code",
   "execution_count": 23,
   "metadata": {},
   "outputs": [
    {
     "name": "stdout",
     "output_type": "stream",
     "text": [
      "[('06', 575), ('07', 313), ('13', 766), ('14', 581), ('15', 1461), ('16', 1169), ('17', 754), ('18', 734), ('19', 847), ('21', 240), ('22', 226), ('03', 164), ('08', 284), ('09', 187), ('10', 138), ('11', 255), ('12', 732), ('20', 5458), ('00', 118), ('01', 53), ('04', 246), ('05', 283), ('23', 157), ('02', 48)]\n"
     ]
    }
   ],
   "source": [
    "import re\n",
    "ls = []\n",
    "d = {}\n",
    "fhand = open('weblog.txt')\n",
    "for line1 in fhand:\n",
    "    line1 = line1.rstrip()\n",
    "    pattern = re.findall('\\d{4}[:]([0-9]{2})',line1)   #10.128.2.1\t[29/Nov/2017:06:58:55\tGET /login.php HTTP/1.1\t200\n",
    "    ls.extend(pattern)\n",
    "#ls\n",
    "for word in ls:\n",
    "    if word not in d:\n",
    "        d[word] = 1\n",
    "    else:\n",
    "        d[word] +=1\n",
    "t= list(d.items())\n",
    "print(t)\n",
    "    \n",
    "    "
   ]
  }
 ],
 "metadata": {
  "kernelspec": {
   "display_name": "Python 3",
   "language": "python",
   "name": "python3"
  },
  "language_info": {
   "codemirror_mode": {
    "name": "ipython",
    "version": 3
   },
   "file_extension": ".py",
   "mimetype": "text/x-python",
   "name": "python",
   "nbconvert_exporter": "python",
   "pygments_lexer": "ipython3",
   "version": "3.7.1"
  }
 },
 "nbformat": 4,
 "nbformat_minor": 2
}
